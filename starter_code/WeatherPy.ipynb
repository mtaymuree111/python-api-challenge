{
 "cells": [
  {
   "cell_type": "markdown",
   "metadata": {},
   "source": [
    "# WeatherPy\n",
    "----\n",
    "\n",
    "#### Note\n",
    "* Instructions have been included for each segment. You do not have to follow them exactly, but they are included to help you think through the steps."
   ]
  },
  {
   "cell_type": "code",
   "execution_count": null,
   "metadata": {},
   "outputs": [],
   "source": [
    "#observations. Very little correlation to none in both the southern and northern hemispheres for cloudiness versus latitide\n",
    "#Also, very little to no correlation for wind speed vs latitude in both southern and northern hemispheres\n",
    "#Also, very little to no correlation for humidity vs latitude in both southern and northern hemispheres\n",
    "#Finally there is a negatibe correlation to latitude versus max temp for the northern hemisphere and a postive correlation for the southern hemisphere"
   ]
  },
  {
   "cell_type": "code",
   "execution_count": 1,
   "metadata": {},
   "outputs": [
    {
     "name": "stdout",
     "output_type": "stream",
     "text": [
      "Requirement already satisfied: citipy in c:\\users\\mntay\\anaconda3\\lib\\site-packages (0.0.5)\n",
      "Requirement already satisfied: kdtree>=0.12 in c:\\users\\mntay\\anaconda3\\lib\\site-packages (from citipy) (0.16)\n"
     ]
    }
   ],
   "source": [
    "! pip install citipy"
   ]
  },
  {
   "cell_type": "code",
   "execution_count": 38,
   "metadata": {
    "scrolled": true
   },
   "outputs": [],
   "source": [
    "# Dependencies and Setup\n",
    "import matplotlib.pyplot as plt\n",
    "import pandas as pd\n",
    "import numpy as np\n",
    "import requests\n",
    "import time\n",
    "import os\n",
    "import pprint\n",
    "from scipy.stats import linregress\n",
    "\n",
    "from citipy import citipy\n",
    "# Import API key\n",
    "from api_keys import weather_api_key"
   ]
  },
  {
   "cell_type": "code",
   "execution_count": 2,
   "metadata": {},
   "outputs": [],
   "source": [
    "city_csv = \"../output_data/cities.csv\"\n"
   ]
  },
  {
   "cell_type": "code",
   "execution_count": 3,
   "metadata": {},
   "outputs": [],
   "source": [
    "range_lat = (-90,90)\n",
    "range_long = (-180,180)\n",
    "\n"
   ]
  },
  {
   "cell_type": "markdown",
   "metadata": {},
   "source": [
    "## Generate Cities List"
   ]
  },
  {
   "cell_type": "code",
   "execution_count": 4,
   "metadata": {},
   "outputs": [
    {
     "data": {
      "text/plain": [
       "607"
      ]
     },
     "execution_count": 4,
     "metadata": {},
     "output_type": "execute_result"
    }
   ],
   "source": [
    "lat_long = []\n",
    "cities = []\n",
    "\n",
    "random_lat = np.random.uniform(range_lat[0], range_lat[1], size = 1500)\n",
    "random_long = np.random.uniform(range_long[0], range_long[1], size = 1500)\n",
    "lat_long = zip(random_lat, random_long)\n",
    "\n",
    "for ll in lat_long:\n",
    "    city = citipy.nearest_city(ll[0],ll[1]).city_name\n",
    "    if city not in cities:\n",
    "        cities.append(city)\n",
    "len(cities)\n"
   ]
  },
  {
   "cell_type": "markdown",
   "metadata": {},
   "source": [
    "### Perform API Calls\n",
    "* Perform a weather check on each city using a series of successive API calls.\n",
    "* Include a print log of each city as it'sbeing processed (with the city number and city name).\n"
   ]
  },
  {
   "cell_type": "code",
   "execution_count": 5,
   "metadata": {
    "scrolled": true
   },
   "outputs": [
    {
     "name": "stdout",
     "output_type": "stream",
     "text": [
      "processing record1of Set1|east london\n",
      "processing record2of Set1|hermanus\n",
      "processing record3of Set1|cockburn town\n",
      "processing record4of Set1|nouadhibou\n",
      "processing record5of Set1|avarua\n",
      "processing record6of Set1|trapani\n",
      "processing record7of Set1|iralaya\n",
      "processing record8of Set1|punta arenas\n",
      "processing record9of Set1|taolanaro\n",
      "City not found. Skipping...\n",
      "processing record10of Set1|kavaratti\n",
      "processing record11of Set1|mataura\n",
      "processing record12of Set1|kysyl-syr\n",
      "processing record13of Set1|kamenka\n",
      "processing record14of Set1|rikitea\n",
      "processing record15of Set1|sitka\n",
      "processing record16of Set1|dikson\n",
      "processing record17of Set1|maniitsoq\n",
      "processing record18of Set1|bluff\n",
      "City not found. Skipping...\n",
      "processing record19of Set1|jamestown\n",
      "processing record20of Set1|effingham\n",
      "processing record21of Set1|fairbanks\n",
      "processing record22of Set1|sola\n",
      "processing record23of Set1|illoqqortoormiut\n",
      "City not found. Skipping...\n",
      "processing record24of Set1|belushya guba\n",
      "City not found. Skipping...\n",
      "processing record25of Set1|kirillov\n",
      "processing record26of Set1|qaanaaq\n",
      "processing record27of Set1|provideniya\n",
      "processing record28of Set1|ilam\n",
      "processing record29of Set1|mount gambier\n",
      "processing record30of Set1|hualmay\n",
      "processing record31of Set1|puerto escondido\n",
      "processing record32of Set1|guerrero negro\n",
      "processing record33of Set1|margate\n",
      "processing record34of Set1|aasiaat\n",
      "processing record35of Set1|chuy\n",
      "processing record36of Set1|greensburg\n",
      "processing record37of Set1|sataua\n",
      "City not found. Skipping...\n",
      "processing record38of Set1|codrington\n",
      "processing record39of Set1|balkhash\n",
      "processing record40of Set1|ribeira grande\n",
      "processing record41of Set1|saldanha\n",
      "processing record42of Set1|ushuaia\n",
      "processing record43of Set1|busselton\n",
      "processing record44of Set1|arraial do cabo\n",
      "processing record45of Set1|kamariotissa\n",
      "processing record46of Set1|ambilobe\n",
      "processing record47of Set1|tumannyy\n",
      "City not found. Skipping...\n",
      "processing record48of Set1|vad\n",
      "processing record49of Set1|lebu\n",
      "processing record50of Set1|port alfred\n",
      "processing record0of Set2|cape town\n",
      "processing record1of Set2|byron bay\n",
      "processing record2of Set2|clyde river\n",
      "processing record3of Set2|kirundo\n",
      "processing record4of Set2|barcelos\n",
      "processing record5of Set2|srednekolymsk\n",
      "processing record6of Set2|samusu\n",
      "City not found. Skipping...\n",
      "processing record7of Set2|vaini\n",
      "processing record8of Set2|severomorsk\n",
      "processing record9of Set2|ostrovnoy\n",
      "processing record10of Set2|atuona\n",
      "processing record11of Set2|vestmannaeyjar\n",
      "processing record12of Set2|port elizabeth\n",
      "processing record13of Set2|vaitupu\n",
      "City not found. Skipping...\n",
      "processing record14of Set2|chalmette\n",
      "processing record15of Set2|sept-iles\n",
      "processing record16of Set2|barrow\n",
      "processing record17of Set2|ibra\n",
      "processing record18of Set2|barentsburg\n",
      "City not found. Skipping...\n",
      "processing record19of Set2|andapa\n",
      "processing record20of Set2|cairns\n",
      "processing record21of Set2|lompoc\n",
      "processing record22of Set2|tura\n",
      "processing record23of Set2|ngunguru\n",
      "processing record24of Set2|georgetown\n",
      "processing record25of Set2|mount isa\n",
      "processing record26of Set2|yialos\n",
      "City not found. Skipping...\n",
      "processing record27of Set2|albany\n",
      "processing record28of Set2|carnarvon\n",
      "processing record29of Set2|upernavik\n",
      "processing record30of Set2|laguna\n",
      "processing record31of Set2|soyo\n",
      "processing record32of Set2|nuuk\n",
      "processing record33of Set2|faanui\n",
      "processing record34of Set2|pasan\n",
      "processing record35of Set2|saint-francois\n",
      "processing record36of Set2|darhan\n",
      "processing record37of Set2|keningau\n",
      "processing record38of Set2|new norfolk\n",
      "processing record39of Set2|barawe\n",
      "City not found. Skipping...\n",
      "processing record40of Set2|saint george\n",
      "processing record41of Set2|constitucion\n",
      "processing record42of Set2|bredasdorp\n",
      "processing record43of Set2|batagay-alyta\n",
      "processing record44of Set2|puerto ayora\n",
      "processing record45of Set2|yefira\n",
      "City not found. Skipping...\n",
      "processing record46of Set2|kaitangata\n",
      "processing record47of Set2|attawapiskat\n",
      "City not found. Skipping...\n",
      "processing record48of Set2|tongliao\n",
      "processing record49of Set2|zhangjiakou\n",
      "processing record0of Set3|praia\n",
      "processing record1of Set3|kupang\n",
      "processing record2of Set3|coracao de jesus\n",
      "processing record3of Set3|saint-pierre\n",
      "processing record4of Set3|grand river south east\n",
      "City not found. Skipping...\n",
      "processing record5of Set3|rio tuba\n",
      "processing record6of Set3|yellowknife\n",
      "processing record7of Set3|vardo\n",
      "processing record8of Set3|ponta delgada\n",
      "processing record9of Set3|bafq\n",
      "processing record10of Set3|pevek\n",
      "processing record11of Set3|zabaykalsk\n",
      "processing record12of Set3|tungkang\n",
      "City not found. Skipping...\n",
      "processing record13of Set3|beckley\n",
      "processing record14of Set3|tasiilaq\n",
      "processing record15of Set3|visnes\n",
      "processing record16of Set3|hilo\n",
      "processing record17of Set3|ginir\n",
      "processing record18of Set3|hobart\n",
      "processing record19of Set3|kapaa\n",
      "processing record20of Set3|banjar\n",
      "processing record21of Set3|flagstaff\n",
      "processing record22of Set3|mosquera\n",
      "processing record23of Set3|khash\n",
      "processing record24of Set3|kieta\n",
      "processing record25of Set3|hailar\n",
      "processing record26of Set3|madang\n",
      "processing record27of Set3|mahebourg\n",
      "processing record28of Set3|katsuura\n",
      "processing record29of Set3|sao filipe\n",
      "processing record30of Set3|ponta do sol\n",
      "processing record31of Set3|lagoa\n",
      "processing record32of Set3|airai\n",
      "processing record33of Set3|pionki\n",
      "processing record34of Set3|pangnirtung\n",
      "processing record35of Set3|tiksi\n",
      "processing record36of Set3|sayyan\n",
      "processing record37of Set3|beringovskiy\n",
      "processing record38of Set3|gravdal\n",
      "processing record39of Set3|taburao\n",
      "City not found. Skipping...\n",
      "processing record40of Set3|hithadhoo\n",
      "processing record41of Set3|honiara\n",
      "processing record42of Set3|morgan city\n",
      "processing record43of Set3|aklavik\n",
      "processing record44of Set3|aksarka\n",
      "processing record45of Set3|mar del plata\n",
      "processing record46of Set3|khatanga\n",
      "processing record47of Set3|rio grande\n",
      "processing record48of Set3|maragogi\n",
      "processing record49of Set3|iqaluit\n",
      "processing record0of Set4|fairview\n",
      "processing record1of Set4|sao jose do campestre\n",
      "processing record2of Set4|niquero\n",
      "processing record3of Set4|mao\n",
      "processing record4of Set4|shache\n",
      "processing record5of Set4|portland\n",
      "processing record6of Set4|oktyabrskiy\n",
      "processing record7of Set4|yulara\n",
      "processing record8of Set4|deputatskiy\n",
      "processing record9of Set4|tuktoyaktuk\n",
      "processing record10of Set4|baiao\n",
      "processing record11of Set4|panambi\n",
      "processing record12of Set4|griffith\n",
      "processing record13of Set4|narsaq\n",
      "processing record14of Set4|bethel\n",
      "processing record15of Set4|necochea\n",
      "processing record16of Set4|nouakchott\n",
      "processing record17of Set4|saint-philippe\n",
      "processing record18of Set4|namatanai\n",
      "processing record19of Set4|butaritari\n",
      "processing record20of Set4|asau\n",
      "processing record21of Set4|kruisfontein\n",
      "processing record22of Set4|tabas\n",
      "processing record23of Set4|kodiak\n",
      "processing record24of Set4|wahpeton\n",
      "processing record25of Set4|oyama\n",
      "processing record26of Set4|inongo\n",
      "processing record27of Set4|te anau\n",
      "processing record28of Set4|makokou\n",
      "processing record29of Set4|elizabeth city\n",
      "processing record30of Set4|blajeni\n",
      "processing record31of Set4|port lincoln\n",
      "processing record32of Set4|karamken\n",
      "City not found. Skipping...\n",
      "processing record33of Set4|nizhneyansk\n",
      "City not found. Skipping...\n",
      "processing record34of Set4|mitsamiouli\n",
      "processing record35of Set4|vestmanna\n",
      "processing record36of Set4|sioux lookout\n",
      "processing record37of Set4|tuatapere\n",
      "processing record38of Set4|antofagasta\n",
      "processing record39of Set4|san antonio\n",
      "processing record40of Set4|cherskiy\n",
      "processing record41of Set4|tamale\n",
      "processing record42of Set4|luderitz\n",
      "processing record43of Set4|richards bay\n",
      "processing record44of Set4|aksu\n",
      "processing record45of Set4|thompson\n",
      "processing record46of Set4|vestbygda\n",
      "City not found. Skipping...\n",
      "processing record47of Set4|san policarpo\n",
      "processing record48of Set4|rennes\n",
      "processing record49of Set4|presidencia roque saenz pena\n",
      "processing record0of Set5|koungou\n",
      "processing record1of Set5|popondetta\n",
      "processing record2of Set5|obihiro\n",
      "processing record3of Set5|karlstad\n",
      "processing record4of Set5|olafsvik\n",
      "processing record5of Set5|balakhninskiy\n",
      "processing record6of Set5|buzmeyin\n",
      "processing record7of Set5|placido de castro\n",
      "processing record8of Set5|comodoro rivadavia\n",
      "processing record9of Set5|antalaha\n",
      "processing record10of Set5|namie\n",
      "processing record11of Set5|sao joao da barra\n"
     ]
    },
    {
     "name": "stdout",
     "output_type": "stream",
     "text": [
      "processing record12of Set5|karakendzha\n",
      "City not found. Skipping...\n",
      "processing record13of Set5|hurghada\n",
      "processing record14of Set5|shaunavon\n",
      "processing record15of Set5|melilla\n",
      "processing record16of Set5|zhangye\n",
      "processing record17of Set5|naze\n",
      "processing record18of Set5|wajima\n",
      "processing record19of Set5|himora\n",
      "City not found. Skipping...\n",
      "processing record20of Set5|haines junction\n",
      "processing record21of Set5|leningradskiy\n",
      "processing record22of Set5|deqing\n",
      "processing record23of Set5|wakkanai\n",
      "processing record24of Set5|mys shmidta\n",
      "City not found. Skipping...\n",
      "processing record25of Set5|thunder bay\n",
      "processing record26of Set5|touros\n",
      "processing record27of Set5|arrah\n",
      "processing record28of Set5|bambous virieux\n",
      "processing record29of Set5|kahului\n",
      "processing record30of Set5|ugoofaaru\n",
      "processing record31of Set5|pemangkat\n",
      "processing record32of Set5|amderma\n",
      "City not found. Skipping...\n",
      "processing record33of Set5|isiro\n",
      "processing record34of Set5|baghmara\n",
      "processing record35of Set5|longyearbyen\n",
      "processing record36of Set5|mountain home\n",
      "processing record37of Set5|lorengau\n",
      "processing record38of Set5|cumberland\n",
      "processing record39of Set5|ust-kuyga\n",
      "processing record40of Set5|kaeo\n",
      "processing record41of Set5|matagami\n",
      "processing record42of Set5|riberalta\n",
      "processing record43of Set5|vao\n",
      "processing record44of Set5|beni mazar\n",
      "processing record45of Set5|biak\n",
      "processing record46of Set5|taksimo\n",
      "processing record47of Set5|seondha\n",
      "processing record48of Set5|talnakh\n",
      "processing record49of Set5|wana\n",
      "processing record0of Set6|myitkyina\n",
      "processing record1of Set6|mentok\n",
      "City not found. Skipping...\n",
      "processing record2of Set6|sur\n",
      "processing record3of Set6|grindavik\n",
      "processing record4of Set6|cabo san lucas\n",
      "processing record5of Set6|surt\n",
      "processing record6of Set6|yumen\n",
      "processing record7of Set6|souillac\n",
      "processing record8of Set6|norman wells\n",
      "processing record9of Set6|srandakan\n",
      "processing record10of Set6|lakes entrance\n",
      "processing record11of Set6|esperance\n",
      "processing record12of Set6|xiongzhou\n",
      "City not found. Skipping...\n",
      "processing record13of Set6|cidreira\n",
      "processing record14of Set6|santa fe\n",
      "processing record15of Set6|bilibino\n",
      "processing record16of Set6|ucluelet\n",
      "processing record17of Set6|ruwi\n",
      "processing record18of Set6|saurimo\n",
      "processing record19of Set6|morondava\n",
      "processing record20of Set6|ilulissat\n",
      "processing record21of Set6|rorvik\n",
      "processing record22of Set6|torbay\n",
      "processing record23of Set6|celestun\n",
      "processing record24of Set6|guthrie\n",
      "processing record25of Set6|nioro\n",
      "processing record26of Set6|beyneu\n",
      "processing record27of Set6|araguaina\n",
      "processing record28of Set6|sigli\n",
      "processing record29of Set6|durban\n",
      "processing record30of Set6|dudinka\n",
      "processing record31of Set6|kedrovyy\n",
      "processing record32of Set6|le port\n",
      "processing record33of Set6|cervo\n",
      "processing record34of Set6|ostersund\n",
      "processing record35of Set6|martapura\n",
      "processing record36of Set6|victoria\n",
      "processing record37of Set6|los negros\n",
      "processing record38of Set6|saint-louis\n",
      "processing record39of Set6|kalmunai\n",
      "processing record40of Set6|catazaja\n",
      "processing record41of Set6|saleaula\n",
      "City not found. Skipping...\n",
      "processing record42of Set6|alofi\n",
      "processing record43of Set6|chinhoyi\n",
      "processing record44of Set6|kuching\n",
      "processing record45of Set6|saint-georges\n",
      "processing record46of Set6|saskylakh\n",
      "processing record47of Set6|viransehir\n",
      "processing record48of Set6|santa isabel do rio negro\n",
      "processing record49of Set6|hasaki\n",
      "processing record0of Set7|ishigaki\n",
      "processing record1of Set7|mora\n",
      "processing record2of Set7|palabuhanratu\n",
      "City not found. Skipping...\n",
      "processing record3of Set7|ancud\n",
      "processing record4of Set7|hambantota\n",
      "processing record5of Set7|las animas\n",
      "processing record6of Set7|novobirilyussy\n",
      "processing record7of Set7|buchanan\n",
      "processing record8of Set7|sault sainte marie\n",
      "processing record9of Set7|koumac\n",
      "processing record10of Set7|ohara\n",
      "processing record11of Set7|gigmoto\n",
      "processing record12of Set7|cambridge\n",
      "processing record13of Set7|camacha\n",
      "processing record14of Set7|fortuna\n",
      "processing record15of Set7|shingu\n",
      "processing record16of Set7|buqayq\n",
      "City not found. Skipping...\n",
      "processing record17of Set7|goderich\n",
      "processing record18of Set7|semporna\n",
      "processing record19of Set7|lethem\n",
      "processing record20of Set7|coquimbo\n",
      "processing record21of Set7|puga\n",
      "processing record22of Set7|urumqi\n",
      "processing record23of Set7|jiwani\n",
      "processing record24of Set7|aykhal\n",
      "processing record25of Set7|hvolsvollur\n",
      "processing record26of Set7|pipar\n",
      "processing record27of Set7|severo-kurilsk\n",
      "processing record28of Set7|samarai\n",
      "processing record29of Set7|goure\n",
      "processing record30of Set7|jiddah\n",
      "City not found. Skipping...\n",
      "processing record31of Set7|tumpat\n",
      "processing record32of Set7|jumla\n",
      "processing record33of Set7|lasa\n",
      "processing record34of Set7|hoquiam\n",
      "processing record35of Set7|mangrol\n",
      "processing record36of Set7|hamilton\n",
      "processing record37of Set7|tobol\n",
      "processing record38of Set7|pisco\n",
      "processing record39of Set7|henties bay\n",
      "processing record40of Set7|labuhan\n",
      "processing record41of Set7|yelizovo\n",
      "processing record42of Set7|cheuskiny\n",
      "City not found. Skipping...\n",
      "processing record43of Set7|bathsheba\n",
      "processing record44of Set7|tongling\n",
      "processing record45of Set7|komsomolskiy\n",
      "processing record46of Set7|bagotville\n",
      "processing record47of Set7|ajdabiya\n",
      "processing record48of Set7|tazovskiy\n",
      "processing record49of Set7|harnai\n",
      "processing record0of Set8|eyl\n",
      "processing record1of Set8|chapais\n",
      "processing record2of Set8|belyy yar\n",
      "processing record3of Set8|linxia\n",
      "processing record4of Set8|loreto\n",
      "processing record5of Set8|brae\n",
      "processing record6of Set8|upington\n",
      "processing record7of Set8|vila franca do campo\n",
      "processing record8of Set8|ekhabi\n",
      "processing record9of Set8|sidi bu zayd\n",
      "City not found. Skipping...\n",
      "processing record10of Set8|cabedelo\n",
      "processing record11of Set8|maloyaz\n",
      "City not found. Skipping...\n",
      "processing record12of Set8|christchurch\n",
      "processing record13of Set8|gornyye klyuchi\n",
      "processing record14of Set8|matay\n",
      "processing record15of Set8|jinchang\n",
      "processing record16of Set8|inderborskiy\n",
      "City not found. Skipping...\n",
      "processing record17of Set8|urdzhar\n",
      "City not found. Skipping...\n",
      "processing record18of Set8|flin flon\n",
      "processing record19of Set8|evensk\n",
      "processing record20of Set8|tsihombe\n",
      "City not found. Skipping...\n",
      "processing record21of Set8|kurikka\n",
      "processing record22of Set8|kavieng\n",
      "processing record23of Set8|pitea\n",
      "processing record24of Set8|tucumcari\n",
      "processing record25of Set8|lashio\n",
      "processing record26of Set8|trzcianka\n",
      "processing record27of Set8|seoul\n",
      "processing record28of Set8|kralendijk\n",
      "processing record29of Set8|tallahassee\n",
      "processing record30of Set8|geraldton\n",
      "processing record31of Set8|caronport\n",
      "processing record32of Set8|mahabad\n",
      "processing record33of Set8|ornskoldsvik\n",
      "processing record34of Set8|potenza\n",
      "processing record35of Set8|kirando\n",
      "processing record36of Set8|luganville\n",
      "processing record37of Set8|sentyabrskiy\n",
      "City not found. Skipping...\n",
      "processing record38of Set8|grand gaube\n",
      "processing record39of Set8|novo aripuana\n",
      "processing record40of Set8|hadejia\n",
      "processing record41of Set8|tabou\n",
      "processing record42of Set8|louisbourg\n",
      "City not found. Skipping...\n",
      "processing record43of Set8|pingliang\n",
      "processing record44of Set8|leo\n",
      "processing record45of Set8|abha\n",
      "processing record46of Set8|road town\n",
      "processing record47of Set8|blonduos\n",
      "City not found. Skipping...\n",
      "processing record48of Set8|merritt island\n",
      "processing record49of Set8|vilyuysk\n",
      "processing record0of Set9|sabang\n",
      "processing record1of Set9|flinders\n",
      "processing record2of Set9|abalak\n",
      "processing record3of Set9|lavrentiya\n",
      "processing record4of Set9|pacific grove\n",
      "processing record5of Set9|valsamata\n",
      "processing record6of Set9|kijang\n",
      "processing record7of Set9|plettenberg bay\n",
      "processing record8of Set9|saint-medard-en-jalles\n",
      "processing record9of Set9|vila velha\n",
      "processing record10of Set9|berezovka\n",
      "processing record11of Set9|ust-tsilma\n",
      "processing record12of Set9|lhokseumawe\n",
      "processing record13of Set9|harper\n",
      "processing record14of Set9|burns lake\n",
      "processing record15of Set9|subottsi\n",
      "processing record16of Set9|tabiauea\n",
      "City not found. Skipping...\n",
      "processing record17of Set9|castro\n",
      "processing record18of Set9|arkadak\n",
      "processing record19of Set9|camara de lobos\n",
      "processing record20of Set9|shaoyang\n",
      "processing record21of Set9|knysna\n",
      "processing record22of Set9|nome\n",
      "processing record23of Set9|bandarbeyla\n"
     ]
    },
    {
     "name": "stdout",
     "output_type": "stream",
     "text": [
      "processing record24of Set9|sinnamary\n",
      "processing record25of Set9|cavalcante\n",
      "processing record26of Set9|kargopol\n",
      "processing record27of Set9|metro\n",
      "processing record28of Set9|zuwarah\n",
      "processing record29of Set9|kawalu\n",
      "processing record30of Set9|manicore\n",
      "processing record31of Set9|panaba\n",
      "processing record32of Set9|ola\n",
      "processing record33of Set9|nikolskoye\n",
      "processing record34of Set9|babanusah\n",
      "City not found. Skipping...\n",
      "processing record35of Set9|ayan\n",
      "processing record36of Set9|quatre cocos\n",
      "processing record37of Set9|kemijarvi\n",
      "processing record38of Set9|eureka\n",
      "processing record39of Set9|port keats\n",
      "processing record40of Set9|sharkan\n",
      "processing record41of Set9|san rafael\n",
      "processing record42of Set9|balikpapan\n",
      "processing record43of Set9|mayo\n",
      "processing record44of Set9|ayagoz\n",
      "processing record45of Set9|coolum beach\n",
      "processing record46of Set9|bilma\n",
      "processing record47of Set9|nueva granada\n",
      "processing record48of Set9|inverell\n",
      "processing record49of Set9|zlocieniec\n",
      "processing record0of Set10|maghama\n",
      "City not found. Skipping...\n",
      "processing record1of Set10|kapoeta\n",
      "processing record2of Set10|segezha\n",
      "processing record3of Set10|carutapera\n",
      "processing record4of Set10|sebinkarahisar\n",
      "processing record5of Set10|nola\n",
      "processing record6of Set10|shenjiamen\n",
      "processing record7of Set10|kochubey\n",
      "processing record8of Set10|lynn haven\n",
      "processing record9of Set10|rungata\n",
      "City not found. Skipping...\n",
      "processing record10of Set10|lolua\n",
      "City not found. Skipping...\n",
      "processing record11of Set10|nirmali\n",
      "processing record12of Set10|klaksvik\n",
      "processing record13of Set10|san quintin\n",
      "processing record14of Set10|mahadday weyne\n",
      "City not found. Skipping...\n",
      "processing record15of Set10|arlit\n",
      "processing record16of Set10|huarmey\n",
      "processing record17of Set10|sangar\n",
      "processing record18of Set10|straumen\n",
      "processing record19of Set10|auka\n",
      "processing record20of Set10|antanifotsy\n",
      "processing record21of Set10|faya\n",
      "processing record22of Set10|kaliganj\n",
      "processing record23of Set10|sainte-maxime\n",
      "processing record24of Set10|mitzic\n",
      "processing record25of Set10|port-gentil\n",
      "processing record26of Set10|intipuca\n",
      "processing record27of Set10|takayama\n",
      "processing record28of Set10|hovd\n",
      "processing record29of Set10|udachnyy\n",
      "processing record30of Set10|baykit\n",
      "processing record31of Set10|dunedin\n",
      "processing record32of Set10|yatou\n",
      "processing record33of Set10|tamandare\n",
      "processing record34of Set10|pemberton\n",
      "processing record35of Set10|peruibe\n",
      "processing record36of Set10|umm kaddadah\n",
      "processing record37of Set10|chicama\n",
      "processing record38of Set10|yar-sale\n",
      "processing record39of Set10|ligayan\n",
      "processing record40of Set10|moses lake\n",
      "processing record41of Set10|caravelas\n",
      "processing record42of Set10|nishihara\n",
      "processing record43of Set10|san cristobal\n",
      "processing record44of Set10|beruni\n",
      "City not found. Skipping...\n",
      "processing record45of Set10|bengkulu\n",
      "processing record46of Set10|sadabad\n",
      "processing record47of Set10|glencoe\n",
      "processing record48of Set10|solnechnyy\n",
      "processing record49of Set10|buala\n",
      "processing record0of Set11|moba\n",
      "processing record1of Set11|seddon\n",
      "processing record2of Set11|kingsport\n",
      "processing record3of Set11|kenai\n",
      "processing record4of Set11|mumford\n",
      "processing record5of Set11|lingyuan\n",
      "processing record6of Set11|umzimvubu\n",
      "City not found. Skipping...\n",
      "processing record7of Set11|bend\n",
      "processing record8of Set11|quelimane\n",
      "processing record9of Set11|liwan\n",
      "processing record10of Set11|tatvan\n",
      "processing record11of Set11|bubaque\n",
      "processing record12of Set11|tiznit\n",
      "processing record13of Set11|leh\n",
      "processing record14of Set11|shakawe\n",
      "processing record15of Set11|timbiqui\n",
      "processing record16of Set11|ixtapa\n",
      "processing record17of Set11|nanortalik\n",
      "processing record18of Set11|sao felix do xingu\n",
      "processing record19of Set11|tilichiki\n",
      "processing record20of Set11|semey\n",
      "processing record21of Set11|kapit\n",
      "processing record22of Set11|miandrivazo\n",
      "processing record23of Set11|matongo\n",
      "processing record24of Set11|cascina\n",
      "processing record25of Set11|manokwari\n",
      "processing record26of Set11|lovozero\n",
      "processing record27of Set11|sarangani\n",
      "processing record28of Set11|uyuni\n",
      "processing record29of Set11|durusu\n",
      "processing record30of Set11|pyaozerskiy\n",
      "processing record31of Set11|acari\n",
      "processing record32of Set11|amapa\n",
      "processing record33of Set11|chipinge\n",
      "processing record34of Set11|kargasok\n",
      "processing record35of Set11|kerrville\n",
      "processing record36of Set11|meridian\n",
      "processing record37of Set11|khonuu\n",
      "City not found. Skipping...\n",
      "processing record38of Set11|bukama\n",
      "processing record39of Set11|bollnas\n",
      "processing record40of Set11|marzuq\n",
      "processing record41of Set11|sahrak\n",
      "City not found. Skipping...\n",
      "processing record42of Set11|alma\n",
      "processing record43of Set11|carrigaline\n",
      "processing record44of Set11|husavik\n",
      "processing record45of Set11|zvishavane\n",
      "processing record46of Set11|pemba\n",
      "processing record47of Set11|beaupre\n",
      "processing record48of Set11|roald\n",
      "processing record49of Set11|salalah\n",
      "processing record0of Set12|stadskanaal\n",
      "processing record1of Set12|abu kamal\n",
      "processing record2of Set12|chifeng\n",
      "processing record3of Set12|palmer\n",
      "processing record4of Set12|dongsheng\n",
      "processing record5of Set12|balsas\n",
      "processing record6of Set12|amga\n",
      "processing record7of Set12|taoudenni\n",
      "processing record8of Set12|half moon bay\n",
      "processing record9of Set12|kilinochchi\n",
      "processing record10of Set12|pochutla\n",
      "processing record11of Set12|havre-saint-pierre\n",
      "processing record12of Set12|adrar\n",
      "processing record13of Set12|zhigansk\n",
      "processing record14of Set12|mabaruma\n",
      "processing record15of Set12|toba\n",
      "processing record16of Set12|batagay\n",
      "processing record17of Set12|elat\n",
      "processing record18of Set12|mindelo\n",
      "processing record19of Set12|stryn\n",
      "processing record20of Set12|balaka\n",
      "processing record21of Set12|karaul\n",
      "City not found. Skipping...\n",
      "processing record22of Set12|marrakesh\n",
      "processing record23of Set12|sobolevo\n",
      "processing record24of Set12|atar\n",
      "processing record25of Set12|bonthe\n",
      "processing record26of Set12|strezhevoy\n",
      "processing record27of Set12|somerset east\n",
      "processing record28of Set12|listvyanskiy\n",
      "processing record29of Set12|siirt\n",
      "processing record30of Set12|cortez\n",
      "processing record31of Set12|kabinda\n",
      "processing record32of Set12|kuytun\n",
      "processing record33of Set12|watsa\n",
      "processing record34of Set12|satitoa\n",
      "City not found. Skipping...\n",
      "processing record35of Set12|tsiroanomandidy\n",
      "processing record36of Set12|koslan\n",
      "processing record37of Set12|ust-maya\n",
      "processing record38of Set12|samoded\n",
      "processing record39of Set12|wanning\n",
      "processing record40of Set12|kumphawapi\n",
      "processing record41of Set12|lomintsevskiy\n",
      "processing record42of Set12|nyurba\n",
      "processing record43of Set12|bartica\n",
      "processing record44of Set12|general roca\n",
      "processing record45of Set12|petropavlovsk-kamchatskiy\n",
      "processing record46of Set12|warqla\n",
      "City not found. Skipping...\n",
      "processing record47of Set12|kundiawa\n",
      "processing record48of Set12|paredon\n",
      "processing record49of Set12|prescott\n",
      "processing record0of Set13|okhotsk\n",
      "processing record1of Set13|zhigalovo\n",
      "processing record2of Set13|macusani\n",
      "processing record3of Set13|magistralnyy\n",
      "processing record4of Set13|arkhipo-osipovka\n",
      "processing record5of Set13|thinadhoo\n",
      "processing record6of Set13|umm lajj\n"
     ]
    }
   ],
   "source": [
    "url = f\"http://api.openweathermap.org/data/2.5/weather?units=Imperial&appid={weather_api_key}&q=\"\n",
    "#api.openweathermap.org/data/2.5/weather?units=Imperial&appid=210a8a466757d9a9c5572d33af74f956&q=london\n",
    "#210a8a466757d9a9c5572d33af74f956\n",
    "city_data = []\n",
    "record_counter = 1\n",
    "set_counter = 1\n",
    "for i,city in enumerate(cities):\n",
    "    if (i%50 == 0 and i >= 50):\n",
    "        set_counter += 1 \n",
    "        record_counter = 0\n",
    "    city_url = url + city\n",
    "    print(\"processing record\" + str(record_counter) + \"of Set\" + str(set_counter) + \"|\" + city)\n",
    "    record_counter += 1\n",
    "    try:\n",
    "        city_weather_data = requests.get(city_url).json()\n",
    "        latitude = city_weather_data['coord']['lat']\n",
    "        longitude = city_weather_data['coord']['lon']\n",
    "        max_temp = city_weather_data['main']['temp_max']\n",
    "        humidity = city_weather_data['main']['humidity']\n",
    "        cloudiness = city_weather_data['clouds']['all']\n",
    "        wind_speed = city_weather_data['wind']['speed']\n",
    "        country = city_weather_data['sys']['country']\n",
    "        date = city_weather_data['dt']\n",
    "        city_data.append({\n",
    "            \"City\": city,\n",
    "            \"Latitude\": latitude,\n",
    "            \"Longitude\": longitude,\n",
    "            \"Max Temp\": max_temp,\n",
    "            \"Humidity\": humidity,\n",
    "            \"Cloudiness\": cloudiness,\n",
    "            \"Wind Speed\": wind_speed,\n",
    "            \"Country\": country,\n",
    "            \"Date\": date\n",
    "        })\n",
    "    except:\n",
    "        print(\"City not found. Skipping...\")\n",
    "        pass\n",
    "    #break\n",
    "#pprint.pprint(city_weather_data)\n",
    "#print(latitude)   "
   ]
  },
  {
   "cell_type": "code",
   "execution_count": 6,
   "metadata": {},
   "outputs": [
    {
     "data": {
      "text/html": [
       "<div>\n",
       "<style scoped>\n",
       "    .dataframe tbody tr th:only-of-type {\n",
       "        vertical-align: middle;\n",
       "    }\n",
       "\n",
       "    .dataframe tbody tr th {\n",
       "        vertical-align: top;\n",
       "    }\n",
       "\n",
       "    .dataframe thead th {\n",
       "        text-align: right;\n",
       "    }\n",
       "</style>\n",
       "<table border=\"1\" class=\"dataframe\">\n",
       "  <thead>\n",
       "    <tr style=\"text-align: right;\">\n",
       "      <th></th>\n",
       "      <th>City</th>\n",
       "      <th>Latitude</th>\n",
       "      <th>Longitude</th>\n",
       "      <th>Max Temp</th>\n",
       "      <th>Humidity</th>\n",
       "      <th>Cloudiness</th>\n",
       "      <th>Wind Speed</th>\n",
       "      <th>Country</th>\n",
       "      <th>Date</th>\n",
       "    </tr>\n",
       "  </thead>\n",
       "  <tbody>\n",
       "    <tr>\n",
       "      <th>0</th>\n",
       "      <td>east london</td>\n",
       "      <td>-33.0153</td>\n",
       "      <td>27.9116</td>\n",
       "      <td>67.75</td>\n",
       "      <td>71</td>\n",
       "      <td>99</td>\n",
       "      <td>13.22</td>\n",
       "      <td>ZA</td>\n",
       "      <td>1611539396</td>\n",
       "    </tr>\n",
       "    <tr>\n",
       "      <th>1</th>\n",
       "      <td>hermanus</td>\n",
       "      <td>-34.4187</td>\n",
       "      <td>19.2345</td>\n",
       "      <td>64.99</td>\n",
       "      <td>77</td>\n",
       "      <td>8</td>\n",
       "      <td>8.01</td>\n",
       "      <td>ZA</td>\n",
       "      <td>1611539407</td>\n",
       "    </tr>\n",
       "    <tr>\n",
       "      <th>2</th>\n",
       "      <td>cockburn town</td>\n",
       "      <td>21.4612</td>\n",
       "      <td>-71.1419</td>\n",
       "      <td>75.97</td>\n",
       "      <td>77</td>\n",
       "      <td>18</td>\n",
       "      <td>17.43</td>\n",
       "      <td>TC</td>\n",
       "      <td>1611539410</td>\n",
       "    </tr>\n",
       "    <tr>\n",
       "      <th>3</th>\n",
       "      <td>nouadhibou</td>\n",
       "      <td>20.9310</td>\n",
       "      <td>-17.0347</td>\n",
       "      <td>64.40</td>\n",
       "      <td>77</td>\n",
       "      <td>0</td>\n",
       "      <td>16.11</td>\n",
       "      <td>MR</td>\n",
       "      <td>1611539411</td>\n",
       "    </tr>\n",
       "    <tr>\n",
       "      <th>4</th>\n",
       "      <td>avarua</td>\n",
       "      <td>-21.2078</td>\n",
       "      <td>-159.7750</td>\n",
       "      <td>86.00</td>\n",
       "      <td>62</td>\n",
       "      <td>20</td>\n",
       "      <td>13.80</td>\n",
       "      <td>CK</td>\n",
       "      <td>1611539413</td>\n",
       "    </tr>\n",
       "  </tbody>\n",
       "</table>\n",
       "</div>"
      ],
      "text/plain": [
       "            City  Latitude  Longitude  Max Temp  Humidity  Cloudiness  \\\n",
       "0    east london  -33.0153    27.9116     67.75        71          99   \n",
       "1       hermanus  -34.4187    19.2345     64.99        77           8   \n",
       "2  cockburn town   21.4612   -71.1419     75.97        77          18   \n",
       "3     nouadhibou   20.9310   -17.0347     64.40        77           0   \n",
       "4         avarua  -21.2078  -159.7750     86.00        62          20   \n",
       "\n",
       "   Wind Speed Country        Date  \n",
       "0       13.22      ZA  1611539396  \n",
       "1        8.01      ZA  1611539407  \n",
       "2       17.43      TC  1611539410  \n",
       "3       16.11      MR  1611539411  \n",
       "4       13.80      CK  1611539413  "
      ]
     },
     "execution_count": 6,
     "metadata": {},
     "output_type": "execute_result"
    }
   ],
   "source": [
    "city_data_df = pd.DataFrame(city_data)\n",
    "city_data_df.head()"
   ]
  },
  {
   "cell_type": "markdown",
   "metadata": {},
   "source": [
    "### Convert Raw Data to DataFrame\n",
    "* Export the city data into a .csv.\n",
    "* Display the DataFrame"
   ]
  },
  {
   "cell_type": "code",
   "execution_count": 7,
   "metadata": {},
   "outputs": [],
   "source": [
    "city_data_df.to_csv(\"output_city_data.csv\")"
   ]
  },
  {
   "cell_type": "code",
   "execution_count": 8,
   "metadata": {},
   "outputs": [
    {
     "data": {
      "text/html": [
       "<div>\n",
       "<style scoped>\n",
       "    .dataframe tbody tr th:only-of-type {\n",
       "        vertical-align: middle;\n",
       "    }\n",
       "\n",
       "    .dataframe tbody tr th {\n",
       "        vertical-align: top;\n",
       "    }\n",
       "\n",
       "    .dataframe thead th {\n",
       "        text-align: right;\n",
       "    }\n",
       "</style>\n",
       "<table border=\"1\" class=\"dataframe\">\n",
       "  <thead>\n",
       "    <tr style=\"text-align: right;\">\n",
       "      <th></th>\n",
       "      <th>City</th>\n",
       "      <th>Latitude</th>\n",
       "      <th>Longitude</th>\n",
       "      <th>Max Temp</th>\n",
       "      <th>Humidity</th>\n",
       "      <th>Cloudiness</th>\n",
       "      <th>Wind Speed</th>\n",
       "      <th>Country</th>\n",
       "      <th>Date</th>\n",
       "    </tr>\n",
       "  </thead>\n",
       "  <tbody>\n",
       "    <tr>\n",
       "      <th>0</th>\n",
       "      <td>east london</td>\n",
       "      <td>-33.0153</td>\n",
       "      <td>27.9116</td>\n",
       "      <td>67.75</td>\n",
       "      <td>71</td>\n",
       "      <td>99</td>\n",
       "      <td>13.22</td>\n",
       "      <td>ZA</td>\n",
       "      <td>1611539396</td>\n",
       "    </tr>\n",
       "    <tr>\n",
       "      <th>1</th>\n",
       "      <td>hermanus</td>\n",
       "      <td>-34.4187</td>\n",
       "      <td>19.2345</td>\n",
       "      <td>64.99</td>\n",
       "      <td>77</td>\n",
       "      <td>8</td>\n",
       "      <td>8.01</td>\n",
       "      <td>ZA</td>\n",
       "      <td>1611539407</td>\n",
       "    </tr>\n",
       "    <tr>\n",
       "      <th>2</th>\n",
       "      <td>cockburn town</td>\n",
       "      <td>21.4612</td>\n",
       "      <td>-71.1419</td>\n",
       "      <td>75.97</td>\n",
       "      <td>77</td>\n",
       "      <td>18</td>\n",
       "      <td>17.43</td>\n",
       "      <td>TC</td>\n",
       "      <td>1611539410</td>\n",
       "    </tr>\n",
       "    <tr>\n",
       "      <th>3</th>\n",
       "      <td>nouadhibou</td>\n",
       "      <td>20.9310</td>\n",
       "      <td>-17.0347</td>\n",
       "      <td>64.40</td>\n",
       "      <td>77</td>\n",
       "      <td>0</td>\n",
       "      <td>16.11</td>\n",
       "      <td>MR</td>\n",
       "      <td>1611539411</td>\n",
       "    </tr>\n",
       "    <tr>\n",
       "      <th>4</th>\n",
       "      <td>avarua</td>\n",
       "      <td>-21.2078</td>\n",
       "      <td>-159.7750</td>\n",
       "      <td>86.00</td>\n",
       "      <td>62</td>\n",
       "      <td>20</td>\n",
       "      <td>13.80</td>\n",
       "      <td>CK</td>\n",
       "      <td>1611539413</td>\n",
       "    </tr>\n",
       "    <tr>\n",
       "      <th>...</th>\n",
       "      <td>...</td>\n",
       "      <td>...</td>\n",
       "      <td>...</td>\n",
       "      <td>...</td>\n",
       "      <td>...</td>\n",
       "      <td>...</td>\n",
       "      <td>...</td>\n",
       "      <td>...</td>\n",
       "      <td>...</td>\n",
       "    </tr>\n",
       "    <tr>\n",
       "      <th>551</th>\n",
       "      <td>macusani</td>\n",
       "      <td>-14.0833</td>\n",
       "      <td>-70.4333</td>\n",
       "      <td>34.18</td>\n",
       "      <td>90</td>\n",
       "      <td>90</td>\n",
       "      <td>3.13</td>\n",
       "      <td>PE</td>\n",
       "      <td>1611540137</td>\n",
       "    </tr>\n",
       "    <tr>\n",
       "      <th>552</th>\n",
       "      <td>magistralnyy</td>\n",
       "      <td>56.1725</td>\n",
       "      <td>107.4458</td>\n",
       "      <td>-12.12</td>\n",
       "      <td>87</td>\n",
       "      <td>100</td>\n",
       "      <td>1.72</td>\n",
       "      <td>RU</td>\n",
       "      <td>1611540137</td>\n",
       "    </tr>\n",
       "    <tr>\n",
       "      <th>553</th>\n",
       "      <td>arkhipo-osipovka</td>\n",
       "      <td>44.3700</td>\n",
       "      <td>38.5200</td>\n",
       "      <td>48.61</td>\n",
       "      <td>74</td>\n",
       "      <td>72</td>\n",
       "      <td>13.42</td>\n",
       "      <td>RU</td>\n",
       "      <td>1611540138</td>\n",
       "    </tr>\n",
       "    <tr>\n",
       "      <th>554</th>\n",
       "      <td>thinadhoo</td>\n",
       "      <td>0.5333</td>\n",
       "      <td>72.9333</td>\n",
       "      <td>81.72</td>\n",
       "      <td>71</td>\n",
       "      <td>100</td>\n",
       "      <td>4.59</td>\n",
       "      <td>MV</td>\n",
       "      <td>1611540000</td>\n",
       "    </tr>\n",
       "    <tr>\n",
       "      <th>555</th>\n",
       "      <td>umm lajj</td>\n",
       "      <td>25.0213</td>\n",
       "      <td>37.2685</td>\n",
       "      <td>70.77</td>\n",
       "      <td>52</td>\n",
       "      <td>0</td>\n",
       "      <td>9.71</td>\n",
       "      <td>SA</td>\n",
       "      <td>1611540139</td>\n",
       "    </tr>\n",
       "  </tbody>\n",
       "</table>\n",
       "<p>556 rows × 9 columns</p>\n",
       "</div>"
      ],
      "text/plain": [
       "                 City  Latitude  Longitude  Max Temp  Humidity  Cloudiness  \\\n",
       "0         east london  -33.0153    27.9116     67.75        71          99   \n",
       "1            hermanus  -34.4187    19.2345     64.99        77           8   \n",
       "2       cockburn town   21.4612   -71.1419     75.97        77          18   \n",
       "3          nouadhibou   20.9310   -17.0347     64.40        77           0   \n",
       "4              avarua  -21.2078  -159.7750     86.00        62          20   \n",
       "..                ...       ...        ...       ...       ...         ...   \n",
       "551          macusani  -14.0833   -70.4333     34.18        90          90   \n",
       "552      magistralnyy   56.1725   107.4458    -12.12        87         100   \n",
       "553  arkhipo-osipovka   44.3700    38.5200     48.61        74          72   \n",
       "554         thinadhoo    0.5333    72.9333     81.72        71         100   \n",
       "555          umm lajj   25.0213    37.2685     70.77        52           0   \n",
       "\n",
       "     Wind Speed Country        Date  \n",
       "0         13.22      ZA  1611539396  \n",
       "1          8.01      ZA  1611539407  \n",
       "2         17.43      TC  1611539410  \n",
       "3         16.11      MR  1611539411  \n",
       "4         13.80      CK  1611539413  \n",
       "..          ...     ...         ...  \n",
       "551        3.13      PE  1611540137  \n",
       "552        1.72      RU  1611540137  \n",
       "553       13.42      RU  1611540138  \n",
       "554        4.59      MV  1611540000  \n",
       "555        9.71      SA  1611540139  \n",
       "\n",
       "[556 rows x 9 columns]"
      ]
     },
     "execution_count": 8,
     "metadata": {},
     "output_type": "execute_result"
    }
   ],
   "source": [
    "city_data_df"
   ]
  },
  {
   "cell_type": "code",
   "execution_count": 9,
   "metadata": {},
   "outputs": [
    {
     "data": {
      "text/html": [
       "<div>\n",
       "<style scoped>\n",
       "    .dataframe tbody tr th:only-of-type {\n",
       "        vertical-align: middle;\n",
       "    }\n",
       "\n",
       "    .dataframe tbody tr th {\n",
       "        vertical-align: top;\n",
       "    }\n",
       "\n",
       "    .dataframe thead th {\n",
       "        text-align: right;\n",
       "    }\n",
       "</style>\n",
       "<table border=\"1\" class=\"dataframe\">\n",
       "  <thead>\n",
       "    <tr style=\"text-align: right;\">\n",
       "      <th></th>\n",
       "      <th>Latitude</th>\n",
       "      <th>Longitude</th>\n",
       "      <th>Max Temp</th>\n",
       "      <th>Humidity</th>\n",
       "      <th>Cloudiness</th>\n",
       "      <th>Wind Speed</th>\n",
       "      <th>Date</th>\n",
       "    </tr>\n",
       "  </thead>\n",
       "  <tbody>\n",
       "    <tr>\n",
       "      <th>count</th>\n",
       "      <td>556.000000</td>\n",
       "      <td>556.000000</td>\n",
       "      <td>556.00000</td>\n",
       "      <td>556.000000</td>\n",
       "      <td>556.000000</td>\n",
       "      <td>556.000000</td>\n",
       "      <td>5.560000e+02</td>\n",
       "    </tr>\n",
       "    <tr>\n",
       "      <th>mean</th>\n",
       "      <td>21.874971</td>\n",
       "      <td>22.234759</td>\n",
       "      <td>46.59446</td>\n",
       "      <td>75.192446</td>\n",
       "      <td>55.091727</td>\n",
       "      <td>7.735773</td>\n",
       "      <td>1.611540e+09</td>\n",
       "    </tr>\n",
       "    <tr>\n",
       "      <th>std</th>\n",
       "      <td>32.914330</td>\n",
       "      <td>88.817732</td>\n",
       "      <td>34.14371</td>\n",
       "      <td>18.409281</td>\n",
       "      <td>40.593487</td>\n",
       "      <td>5.489374</td>\n",
       "      <td>1.800891e+02</td>\n",
       "    </tr>\n",
       "    <tr>\n",
       "      <th>min</th>\n",
       "      <td>-54.800000</td>\n",
       "      <td>-175.200000</td>\n",
       "      <td>-56.02000</td>\n",
       "      <td>11.000000</td>\n",
       "      <td>0.000000</td>\n",
       "      <td>0.310000</td>\n",
       "      <td>1.611539e+09</td>\n",
       "    </tr>\n",
       "    <tr>\n",
       "      <th>25%</th>\n",
       "      <td>-6.045850</td>\n",
       "      <td>-58.646725</td>\n",
       "      <td>28.30000</td>\n",
       "      <td>67.000000</td>\n",
       "      <td>8.750000</td>\n",
       "      <td>3.440000</td>\n",
       "      <td>1.611540e+09</td>\n",
       "    </tr>\n",
       "    <tr>\n",
       "      <th>50%</th>\n",
       "      <td>27.713450</td>\n",
       "      <td>27.523300</td>\n",
       "      <td>57.12000</td>\n",
       "      <td>78.000000</td>\n",
       "      <td>69.500000</td>\n",
       "      <td>6.465000</td>\n",
       "      <td>1.611540e+09</td>\n",
       "    </tr>\n",
       "    <tr>\n",
       "      <th>75%</th>\n",
       "      <td>49.271675</td>\n",
       "      <td>102.171725</td>\n",
       "      <td>73.99000</td>\n",
       "      <td>88.000000</td>\n",
       "      <td>96.000000</td>\n",
       "      <td>10.570000</td>\n",
       "      <td>1.611540e+09</td>\n",
       "    </tr>\n",
       "    <tr>\n",
       "      <th>max</th>\n",
       "      <td>78.218600</td>\n",
       "      <td>179.316700</td>\n",
       "      <td>106.00000</td>\n",
       "      <td>100.000000</td>\n",
       "      <td>100.000000</td>\n",
       "      <td>32.210000</td>\n",
       "      <td>1.611540e+09</td>\n",
       "    </tr>\n",
       "  </tbody>\n",
       "</table>\n",
       "</div>"
      ],
      "text/plain": [
       "         Latitude   Longitude   Max Temp    Humidity  Cloudiness  Wind Speed  \\\n",
       "count  556.000000  556.000000  556.00000  556.000000  556.000000  556.000000   \n",
       "mean    21.874971   22.234759   46.59446   75.192446   55.091727    7.735773   \n",
       "std     32.914330   88.817732   34.14371   18.409281   40.593487    5.489374   \n",
       "min    -54.800000 -175.200000  -56.02000   11.000000    0.000000    0.310000   \n",
       "25%     -6.045850  -58.646725   28.30000   67.000000    8.750000    3.440000   \n",
       "50%     27.713450   27.523300   57.12000   78.000000   69.500000    6.465000   \n",
       "75%     49.271675  102.171725   73.99000   88.000000   96.000000   10.570000   \n",
       "max     78.218600  179.316700  106.00000  100.000000  100.000000   32.210000   \n",
       "\n",
       "               Date  \n",
       "count  5.560000e+02  \n",
       "mean   1.611540e+09  \n",
       "std    1.800891e+02  \n",
       "min    1.611539e+09  \n",
       "25%    1.611540e+09  \n",
       "50%    1.611540e+09  \n",
       "75%    1.611540e+09  \n",
       "max    1.611540e+09  "
      ]
     },
     "execution_count": 9,
     "metadata": {},
     "output_type": "execute_result"
    }
   ],
   "source": [
    "city_data_df.describe()"
   ]
  },
  {
   "cell_type": "code",
   "execution_count": 15,
   "metadata": {},
   "outputs": [],
   "source": [
    "northern_hemp_df = city_data_df.loc[(city_data_df[\"Latitude\"]>=0)]\n",
    "southern_hemp_df =  city_data_df.loc[(city_data_df[\"Latitude\"]<=0)]"
   ]
  },
  {
   "cell_type": "markdown",
   "metadata": {},
   "source": [
    "## Inspect the data and remove the cities where the humidity > 100%.\n",
    "----\n",
    "Skip this step if there are no cities that have humidity > 100%. "
   ]
  },
  {
   "cell_type": "code",
   "execution_count": 13,
   "metadata": {},
   "outputs": [],
   "source": [
    "#  Get the indices of cities that have humidity over 100%.\n",
    "#No cities greater than 100% humidity thus skipped this step per directions. "
   ]
  },
  {
   "cell_type": "markdown",
   "metadata": {},
   "source": [
    "## Plotting the Data\n",
    "* Use proper labeling of the plots using plot titles (including date of analysis) and axes labels.\n",
    "* Save the plotted figures as .pngs."
   ]
  },
  {
   "cell_type": "markdown",
   "metadata": {},
   "source": [
    "## Latitude vs. Temperature Plot"
   ]
  },
  {
   "cell_type": "code",
   "execution_count": 16,
   "metadata": {
    "scrolled": true
   },
   "outputs": [
    {
     "data": {
      "image/png": "[encoded data removed]",
      "text/plain": [
       "<Figure size 432x288 with 1 Axes>"
      ]
     },
     "metadata": {
      "needs_background": "light"
     },
     "output_type": "display_data"
    }
   ],
   "source": [
    "plt.scatter(city_data_df['Latitude'], city_data_df['Max Temp'])\n",
    "plt.xlabel(\"Latitude\")\n",
    "plt.ylabel(\"Max Temperature (F)\")\n",
    "plt.title(\"City Latitude vs Max Temperature (11.18.2020)\")\n",
    "plt.grid(True)\n",
    "plt.show()"
   ]
  },
  {
   "cell_type": "markdown",
   "metadata": {},
   "source": [
    "## Latitude vs. Humidity Plot"
   ]
  },
  {
   "cell_type": "code",
   "execution_count": 22,
   "metadata": {},
   "outputs": [
    {
     "data": {
      "image/png": "[encoded data removed]",
      "text/plain": [
       "<Figure size 432x288 with 1 Axes>"
      ]
     },
     "metadata": {
      "needs_background": "light"
     },
     "output_type": "display_data"
    }
   ],
   "source": [
    "plt.scatter(city_data_df['Latitude'], city_data_df['Humidity'])\n",
    "plt.xlabel(\"Latitude\")\n",
    "plt.ylabel(\"Humidity\")\n",
    "plt.title(\"City Latitude vs Humidity (11.18.2020)\")\n",
    "plt.show()"
   ]
  },
  {
   "cell_type": "markdown",
   "metadata": {},
   "source": [
    "## Latitude vs. Cloudiness Plot"
   ]
  },
  {
   "cell_type": "code",
   "execution_count": 23,
   "metadata": {},
   "outputs": [
    {
     "data": {
      "image/png": "[encoded data removed]",
      "text/plain": [
       "<Figure size 432x288 with 1 Axes>"
      ]
     },
     "metadata": {
      "needs_background": "light"
     },
     "output_type": "display_data"
    }
   ],
   "source": [
    "plt.scatter(city_data_df['Latitude'], city_data_df['Cloudiness'])\n",
    "plt.xlabel(\"Latitude\")\n",
    "plt.ylabel(\"Cloudiness\")\n",
    "plt.title(\"City Latitude vs Cloudiness (11.18.2020)\")\n",
    "plt.show()"
   ]
  },
  {
   "cell_type": "markdown",
   "metadata": {},
   "source": [
    "## Latitude vs. Wind Speed Plot"
   ]
  },
  {
   "cell_type": "code",
   "execution_count": 27,
   "metadata": {},
   "outputs": [
    {
     "data": {
      "image/png": "[encoded data removed]",
      "text/plain": [
       "<Figure size 432x288 with 1 Axes>"
      ]
     },
     "metadata": {
      "needs_background": "light"
     },
     "output_type": "display_data"
    }
   ],
   "source": [
    "plt.scatter(city_data_df['Latitude'], city_data_df['Wind Speed'])\n",
    "plt.xlabel(\"Latitude\")\n",
    "plt.ylabel(\"Wind Speed\")\n",
    "plt.title(\"City Latitude vs Humidity (11.18.2020)\")\n",
    "plt.show()"
   ]
  },
  {
   "cell_type": "markdown",
   "metadata": {},
   "source": [
    "## Linear Regression"
   ]
  },
  {
   "cell_type": "markdown",
   "metadata": {},
   "source": [
    "####  Northern Hemisphere - Max Temp vs. Latitude Linear Regression"
   ]
  },
  {
   "cell_type": "code",
   "execution_count": 55,
   "metadata": {},
   "outputs": [],
   "source": [
    "#Linear Regression plots\n",
    "def plot_linear_regression(x_values, y_values, title, text_coordinates):\n",
    "    \n",
    "\n",
    "    (slope, intercept, rvalue, pvalue, stderr) = linregress(x_values, y_values)\n",
    "    regress_values = x_values * slope + intercept\n",
    "    line_eq = \"y = \" + str(round(slope,2)) + \"x + \" + str(round(intercept,2))\n",
    "\n",
    "\n",
    "    plt.scatter(x_values,y_values)\n",
    "    plt.plot(x_values,regress_values,\"r-\")\n",
    "    plt.annotate(line_eq,text_coordinates,fontsize=15,color=\"red\")\n",
    "    plt.xlabel('Latitude')\n",
    "    plt.ylabel(title)\n",
    "    print(f\"The r-value is: {rvalue**2}\")\n",
    "    plt.show()"
   ]
  },
  {
   "cell_type": "code",
   "execution_count": 56,
   "metadata": {},
   "outputs": [],
   "source": [
    "northern_hemp_df = city_data_df.loc[(city_data_df[\"Latitude\"]>=0)]\n",
    "southern_hemp_df =  city_data_df.loc[(city_data_df[\"Latitude\"]<=0)]"
   ]
  },
  {
   "cell_type": "code",
   "execution_count": 57,
   "metadata": {},
   "outputs": [
    {
     "name": "stdout",
     "output_type": "stream",
     "text": [
      "The r-value is: 0.686471735462615\n"
     ]
    },
    {
     "data": {
      "image/png": "[encoded data removed]",
      "text/plain": [
       "<Figure size 432x288 with 1 Axes>"
      ]
     },
     "metadata": {
      "needs_background": "light"
     },
     "output_type": "display_data"
    }
   ],
   "source": [
    "x_values = northern_hemp_df[\"Latitude\"]\n",
    "y_values = northern_hemp_df[\"Max Temp\"]\n",
    "plot_linear_regression(x_values, y_values, 'Max Temp',(10,33))"
   ]
  },
  {
   "cell_type": "markdown",
   "metadata": {},
   "source": [
    "####  Southern Hemisphere - Max Temp vs. Latitude Linear Regression"
   ]
  },
  {
   "cell_type": "code",
   "execution_count": 46,
   "metadata": {},
   "outputs": [
    {
     "name": "stdout",
     "output_type": "stream",
     "text": [
      "The r-value is: 0.04635929191253912\n"
     ]
    },
    {
     "data": {
      "image/png": "[encoded data removed]",
      "text/plain": [
       "<Figure size 432x288 with 1 Axes>"
      ]
     },
     "metadata": {
      "needs_background": "light"
     },
     "output_type": "display_data"
    }
   ],
   "source": [
    "x_values = southern_hemp_df[\"Latitude\"]\n",
    "y_values = southern_hemp_df[\"Max Temp\"]\n",
    "plot_linear_regression(x_values, y_values, 'Max Temp',(-65,90))"
   ]
  },
  {
   "cell_type": "markdown",
   "metadata": {},
   "source": [
    "####  Northern Hemisphere - Humidity (%) vs. Latitude Linear Regression"
   ]
  },
  {
   "cell_type": "code",
   "execution_count": 47,
   "metadata": {},
   "outputs": [
    {
     "name": "stdout",
     "output_type": "stream",
     "text": [
      "The r-value is: 0.08930485211411225\n"
     ]
    },
    {
     "data": {
      "image/png": "[encoded data removed]",
      "text/plain": [
       "<Figure size 432x288 with 1 Axes>"
      ]
     },
     "metadata": {
      "needs_background": "light"
     },
     "output_type": "display_data"
    }
   ],
   "source": [
    "x_values = northern_hemp_df[\"Latitude\"]\n",
    "y_values = northern_hemp_df[\"Humidity\"]\n",
    "plot_linear_regression(x_values, y_values, 'Humidity',(10,33))"
   ]
  },
  {
   "cell_type": "markdown",
   "metadata": {},
   "source": [
    "####  Southern Hemisphere - Humidity (%) vs. Latitude Linear Regression"
   ]
  },
  {
   "cell_type": "code",
   "execution_count": 48,
   "metadata": {},
   "outputs": [
    {
     "name": "stdout",
     "output_type": "stream",
     "text": [
      "The r-value is: 0.14643145866708573\n"
     ]
    },
    {
     "data": {
      "image/png": "[encoded data removed]",
      "text/plain": [
       "<Figure size 432x288 with 1 Axes>"
      ]
     },
     "metadata": {
      "needs_background": "light"
     },
     "output_type": "display_data"
    }
   ],
   "source": [
    "x_values = southern_hemp_df[\"Latitude\"]\n",
    "y_values = southern_hemp_df[\"Humidity\"]\n",
    "plot_linear_regression(x_values, y_values, 'Humidity',(-65,90))"
   ]
  },
  {
   "cell_type": "markdown",
   "metadata": {},
   "source": [
    "####  Northern Hemisphere - Cloudiness (%) vs. Latitude Linear Regression"
   ]
  },
  {
   "cell_type": "code",
   "execution_count": 49,
   "metadata": {},
   "outputs": [
    {
     "name": "stdout",
     "output_type": "stream",
     "text": [
      "The r-value is: 0.041222630762298575\n"
     ]
    },
    {
     "data": {
      "image/png": "[encoded data removed]",
      "text/plain": [
       "<Figure size 432x288 with 1 Axes>"
      ]
     },
     "metadata": {
      "needs_background": "light"
     },
     "output_type": "display_data"
    }
   ],
   "source": [
    "x_values = northern_hemp_df[\"Latitude\"]\n",
    "y_values = northern_hemp_df[\"Cloudiness\"]\n",
    "plot_linear_regression(x_values, y_values, 'Cloudiness',(10,33))"
   ]
  },
  {
   "cell_type": "markdown",
   "metadata": {},
   "source": [
    "####  Southern Hemisphere - Cloudiness (%) vs. Latitude Linear Regression"
   ]
  },
  {
   "cell_type": "code",
   "execution_count": 50,
   "metadata": {},
   "outputs": [
    {
     "name": "stdout",
     "output_type": "stream",
     "text": [
      "The r-value is: 0.08591554139344765\n"
     ]
    },
    {
     "data": {
      "image/png": "[encoded data removed]",
      "text/plain": [
       "<Figure size 432x288 with 1 Axes>"
      ]
     },
     "metadata": {
      "needs_background": "light"
     },
     "output_type": "display_data"
    }
   ],
   "source": [
    "x_values = southern_hemp_df[\"Latitude\"]\n",
    "y_values = southern_hemp_df[\"Cloudiness\"]\n",
    "plot_linear_regression(x_values, y_values, 'Cloudiness',(-65,90))"
   ]
  },
  {
   "cell_type": "markdown",
   "metadata": {},
   "source": [
    "####  Northern Hemisphere - Wind Speed (mph) vs. Latitude Linear Regression"
   ]
  },
  {
   "cell_type": "code",
   "execution_count": 53,
   "metadata": {},
   "outputs": [
    {
     "name": "stdout",
     "output_type": "stream",
     "text": [
      "The r-value is: 0.0043486629362199155\n"
     ]
    },
    {
     "data": {
      "image/png": "[encoded data removed]",
      "text/plain": [
       "<Figure size 432x288 with 1 Axes>"
      ]
     },
     "metadata": {
      "needs_background": "light"
     },
     "output_type": "display_data"
    }
   ],
   "source": [
    "x_values = northern_hemp_df[\"Latitude\"]\n",
    "y_values = northern_hemp_df[\"Wind Speed\"]\n",
    "plot_linear_regression(x_values, y_values, 'Wind Speed',(10,33))"
   ]
  },
  {
   "cell_type": "markdown",
   "metadata": {},
   "source": [
    "####  Southern Hemisphere - Wind Speed (mph) vs. Latitude Linear Regression"
   ]
  },
  {
   "cell_type": "code",
   "execution_count": 54,
   "metadata": {},
   "outputs": [
    {
     "name": "stdout",
     "output_type": "stream",
     "text": [
      "The r-value is: 0.29796099264887016\n"
     ]
    },
    {
     "data": {
      "image/png": "[encoded data removed]",
      "text/plain": [
       "<Figure size 432x288 with 1 Axes>"
      ]
     },
     "metadata": {
      "needs_background": "light"
     },
     "output_type": "display_data"
    }
   ],
   "source": [
    "x_values = southern_hemp_df[\"Latitude\"]\n",
    "y_values = southern_hemp_df[\"Wind Speed\"]\n",
    "plot_linear_regression(x_values, y_values, 'Wind Speed',(-65,90))"
   ]
  },
  {
   "cell_type": "code",
   "execution_count": null,
   "metadata": {},
   "outputs": [],
   "source": []
  }
 ],
 "metadata": {
  "anaconda-cloud": {},
  "kernel_info": {
   "name": "python3"
  },
  "kernelspec": {
   "display_name": "Python 3",
   "language": "python",
   "name": "python3"
  },
  "language_info": {
   "codemirror_mode": {
    "name": "ipython",
    "version": 3
   },
   "file_extension": ".py",
   "mimetype": "text/x-python",
   "name": "python",
   "nbconvert_exporter": "python",
   "pygments_lexer": "ipython3",
   "version": "3.8.3"
  },
  "latex_envs": {
   "LaTeX_envs_menu_present": true,
   "autoclose": false,
   "autocomplete": true,
   "bibliofile": "biblio.bib",
   "cite_by": "apalike",
   "current_citInitial": 1,
   "eqLabelWithNumbers": true,
   "eqNumInitial": 1,
   "hotkeys": {
    "equation": "Ctrl-E",
    "itemize": "Ctrl-I"
   },
   "labels_anchors": false,
   "latex_user_defs": false,
   "report_style_numbering": false,
   "user_envs_cfg": false
  },
  "nteract": {
   "version": "0.12.3"
  }
 },
 "nbformat": 4,
 "nbformat_minor": 2
}
